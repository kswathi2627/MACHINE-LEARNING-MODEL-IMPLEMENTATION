{
  "nbformat": 4,
  "nbformat_minor": 0,
  "metadata": {
    "colab": {
      "provenance": [],
      "toc_visible": true,
      "authorship_tag": "ABX9TyNtiY+S6BnDCNjai6EBcd0f",
      "include_colab_link": true
    },
    "kernelspec": {
      "name": "python3",
      "display_name": "Python 3"
    },
    "language_info": {
      "name": "python"
    }
  },
  "cells": [
    {
      "cell_type": "markdown",
      "metadata": {
        "id": "view-in-github",
        "colab_type": "text"
      },
      "source": [
        "<a href=\"https://colab.research.google.com/github/kswathi2627/MACHINE-LEARNING-MODEL-IMPLEMENTATION/blob/main/CD4.ipynb\" target=\"_parent\"><img src=\"https://colab.research.google.com/assets/colab-badge.svg\" alt=\"Open In Colab\"/></a>"
      ]
    },
    {
      "cell_type": "code",
      "execution_count": null,
      "metadata": {
        "colab": {
          "base_uri": "https://localhost:8080/"
        },
        "id": "u_rBBEQ1fMWU",
        "outputId": "e0ad87f0-a175-473a-9122-f6e78e259bdb"
      },
      "outputs": [
        {
          "output_type": "stream",
          "name": "stdout",
          "text": [
            "Dataset Shape: (5572, 2)\n",
            "  label                                            message\n",
            "0   ham  Go until jurong point, crazy.. Available only ...\n",
            "1   ham                      Ok lar... Joking wif u oni...\n",
            "2  spam  Free entry in 2 a wkly comp to win FA Cup fina...\n",
            "3   ham  U dun say so early hor... U c already then say...\n",
            "4   ham  Nah I don't think he goes to usf, he lives aro...\n",
            "✅ Model Evaluation Results\n",
            "Accuracy: 0.979372197309417\n",
            "\n",
            "Confusion Matrix:\n",
            " [[966   0]\n",
            " [ 23 126]]\n",
            "\n",
            "Classification Report:\n",
            "               precision    recall  f1-score   support\n",
            "\n",
            "           0       0.98      1.00      0.99       966\n",
            "           1       1.00      0.85      0.92       149\n",
            "\n",
            "    accuracy                           0.98      1115\n",
            "   macro avg       0.99      0.92      0.95      1115\n",
            "weighted avg       0.98      0.98      0.98      1115\n",
            "\n",
            "\n",
            "Sample Predictions: [0 0]\n"
          ]
        }
      ],
      "source": [
        "# 📘 Machine Learning Model Implementation\n",
        "# Predictive Model using Scikit-Learn (Spam Email Detection)\n",
        "\n",
        "# Step 1: Import Required Libraries\n",
        "import pandas as pd\n",
        "import numpy as np\n",
        "from sklearn.model_selection import train_test_split\n",
        "from sklearn.feature_extraction.text import TfidfVectorizer\n",
        "from sklearn.naive_bayes import MultinomialNB\n",
        "from sklearn.metrics import accuracy_score, confusion_matrix, classification_report\n",
        "\n",
        "# Step 2: Load Dataset\n",
        "# SMS Spam Collection dataset (Ham = Not Spam, Spam = Spam Message)\n",
        "url = \"https://raw.githubusercontent.com/justmarkham/pycon-2016-tutorial/master/data/sms.tsv\"\n",
        "data = pd.read_csv(url, sep='\\t', header=None, names=['label', 'message'])\n",
        "\n",
        "print(\"Dataset Shape:\", data.shape)\n",
        "print(data.head())\n",
        "\n",
        "# Step 3: Preprocess Data\n",
        "X = data['message']   # Features (text messages)\n",
        "y = data['label'].map({'ham':0, 'spam':1})  # Encode labels (ham=0, spam=1)\n",
        "\n",
        "# Convert text into numerical features using TF-IDF\n",
        "vectorizer = TfidfVectorizer(stop_words='english')\n",
        "X_vectorized = vectorizer.fit_transform(X)\n",
        "\n",
        "# Step 4: Train-Test Split\n",
        "X_train, X_test, y_train, y_test = train_test_split(\n",
        "    X_vectorized, y, test_size=0.2, random_state=42\n",
        ")\n",
        "\n",
        "# Step 5: Train Model (Naive Bayes Classifier)\n",
        "model = MultinomialNB()\n",
        "model.fit(X_train, y_train)\n",
        "\n",
        "# Step 6: Make Predictions\n",
        "y_pred = model.predict(X_test)\n",
        "\n",
        "# Step 7: Evaluate the Model\n",
        "print(\"✅ Model Evaluation Results\")\n",
        "print(\"Accuracy:\", accuracy_score(y_test, y_pred))\n",
        "print(\"\\nConfusion Matrix:\\n\", confusion_matrix(y_test, y_pred))\n",
        "print(\"\\nClassification Report:\\n\", classification_report(y_test, y_pred))\n",
        "\n",
        "# Step 8: Try a Custom Prediction\n",
        "sample = [\n",
        "    \"Congratulations! You've won a free lottery ticket. Call now!\",\n",
        "    \"Are we still meeting for lunch tomorrow?\"\n",
        "]\n",
        "sample_vec = vectorizer.transform(sample)\n",
        "print(\"\\nSample Predictions:\", model.predict(sample_vec))  # 1=spam, 0=ham\n"
      ]
    },
    {
      "cell_type": "code",
      "source": [],
      "metadata": {
        "id": "uhG981D4gces"
      },
      "execution_count": null,
      "outputs": []
    }
  ]
}