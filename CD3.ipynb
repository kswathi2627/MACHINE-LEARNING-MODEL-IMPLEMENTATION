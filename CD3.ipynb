{
  "nbformat": 4,
  "nbformat_minor": 0,
  "metadata": {
    "colab": {
      "provenance": [],
      "authorship_tag": "ABX9TyN0vhk8CImeAdYE/r/G8yBf",
      "include_colab_link": true
    },
    "kernelspec": {
      "name": "python3",
      "display_name": "Python 3"
    },
    "language_info": {
      "name": "python"
    }
  },
  "cells": [
    {
      "cell_type": "markdown",
      "metadata": {
        "id": "view-in-github",
        "colab_type": "text"
      },
      "source": [
        "<a href=\"https://colab.research.google.com/github/kswathi2627/MACHINE-LEARNING-MODEL-IMPLEMENTATION/blob/main/CD3.ipynb\" target=\"_parent\"><img src=\"https://colab.research.google.com/assets/colab-badge.svg\" alt=\"Open In Colab\"/></a>"
      ]
    },
    {
      "cell_type": "code",
      "execution_count": null,
      "metadata": {
        "colab": {
          "base_uri": "https://localhost:8080/"
        },
        "id": "h7QVZhsAltbj",
        "outputId": "3f923870-eba1-4410-9be9-cf812ca790c6"
      },
      "outputs": [
        {
          "output_type": "stream",
          "name": "stderr",
          "text": [
            "[nltk_data] Downloading package punkt to /root/nltk_data...\n",
            "[nltk_data]   Package punkt is already up-to-date!\n",
            "[nltk_data] Downloading package punkt_tab to /root/nltk_data...\n",
            "[nltk_data]   Unzipping tokenizers/punkt_tab.zip.\n",
            "[nltk_data] Downloading package wordnet to /root/nltk_data...\n",
            "[nltk_data]   Package wordnet is already up-to-date!\n",
            "[nltk_data] Downloading package punkt to /root/nltk_data...\n",
            "[nltk_data]   Package punkt is already up-to-date!\n",
            "[nltk_data] Downloading package punkt_tab to /root/nltk_data...\n",
            "[nltk_data]   Package punkt_tab is already up-to-date!\n",
            "[nltk_data] Downloading package wordnet to /root/nltk_data...\n",
            "[nltk_data]   Package wordnet is already up-to-date!\n"
          ]
        },
        {
          "output_type": "stream",
          "name": "stdout",
          "text": [
            "🤖 Chatbot: Hello! I am your AI assistant. Type 'bye' to exit.\n",
            "You: byte\n",
            "🤖 Chatbot: I'm not sure about that. Could you please rephrase?\n",
            "You: bye\n",
            "🤖 Chatbot: Goodbye! Have a great day!\n"
          ]
        }
      ],
      "source": [
        "import nltk\n",
        "nltk.download('punkt')\n",
        "nltk.download('punkt_tab')\n",
        "nltk.download('wordnet')\n",
        "# AI Chatbot using NLTK\n",
        "import nltk\n",
        "import string\n",
        "from nltk.stem import WordNetLemmatizer\n",
        "from nltk.tokenize import word_tokenize\n",
        "\n",
        "# Download required NLTK data (first run only)\n",
        "nltk.download('punkt')\n",
        "nltk.download('punkt_tab')  # Fix for newer NLTK versions\n",
        "nltk.download('wordnet')\n",
        "\n",
        "# Initialize lemmatizer\n",
        "lemmatizer = WordNetLemmatizer()\n",
        "\n",
        "# Knowledge base (expandable)\n",
        "knowledge_base = {\n",
        "    \"hello\": \"Hello! How can I help you today?\",\n",
        "    \"hi\": \"Hi there! What can I do for you?\",\n",
        "    \"how are you\": \"I'm just a bot, but I'm doing great! How about you?\",\n",
        "    \"what is your name\": \"I am your AI Chatbot, created using Python and NLTK.\",\n",
        "    \"bye\": \"Goodbye! Have a great day!\",\n",
        "    \"thanks\": \"You're welcome! Happy to help.\"\n",
        "}\n",
        "\n",
        "# Preprocess user input\n",
        "def preprocess(text):\n",
        "    tokens = word_tokenize(text.lower())  # tokenize input\n",
        "    lemmas = [lemmatizer.lemmatize(word) for word in tokens if word not in string.punctuation]\n",
        "    return \" \".join(lemmas)\n",
        "\n",
        "# Generate chatbot response\n",
        "def chatbot_response(user_input):\n",
        "    processed_input = preprocess(user_input)\n",
        "\n",
        "    # Exact match with knowledge base\n",
        "    if processed_input in knowledge_base:\n",
        "        return knowledge_base[processed_input]\n",
        "    else:\n",
        "        return \"I'm not sure about that. Could you please rephrase?\"\n",
        "\n",
        "# Main chatbot loop\n",
        "print(\"🤖 Chatbot: Hello! I am your AI assistant. Type 'bye' to exit.\")\n",
        "\n",
        "while True:\n",
        "    user_input = input(\"You: \")\n",
        "    if user_input.lower() == \"bye\":\n",
        "        print(\"🤖 Chatbot:\", knowledge_base[\"bye\"])\n",
        "        break\n",
        "    else:\n",
        "        response = chatbot_response(user_input)\n",
        "        print(\"🤖 Chatbot:\", response)\n"
      ]
    },
    {
      "cell_type": "markdown",
      "source": [],
      "metadata": {
        "id": "8lnoP7_rmw6Y"
      }
    },
    {
      "cell_type": "code",
      "source": [],
      "metadata": {
        "id": "rAtB9ehPmaKE"
      },
      "execution_count": null,
      "outputs": []
    }
  ]
}